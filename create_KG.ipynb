{
 "cells": [
  {
   "cell_type": "code",
   "execution_count": 14,
   "metadata": {},
   "outputs": [],
   "source": [
    "import os\n",
    "import matplotlib.pyplot as plt\n",
    "import numpy as np\n",
    "import openai\n",
    "import yaml\n",
    "\n",
    "from utils import *\n",
    "\n",
    "import autoKG_full as AKG"
   ]
  },
  {
   "cell_type": "code",
   "execution_count": 15,
   "metadata": {
    "collapsed": false,
    "jupyter": {
     "outputs_hidden": false
    },
    "pycharm": {
     "name": "#%%\n"
    }
   },
   "outputs": [],
   "source": [
    "with open(\"config.yaml\", 'r') as stream:\n",
    "    try:\n",
    "        params = yaml.safe_load(stream)\n",
    "    except yaml.YAMLError as exc:\n",
    "        print(exc)\n",
    "\n",
    "\n",
    "COMPLETIONS_MODEL = params[\"OPENAI_API_MODEL\"]\n",
    "EMBEDDING_MODEL = params[\"EMBEDDING_MODEL\"]\n",
    "my_api_key = params[\"OPENAI_API_KEY\"]\n",
    "openai.api_key = my_api_key\n",
    "\n",
    "os.environ['OPENAI_API_KEY'] = my_api_key\n",
    "OPENAI_API_KEY = os.environ[\"OPENAI_API_KEY\"]\n",
    "\n",
    "OLLAMA_BASE_URL = params[\"OLLAMA_BASE_URL\"]"
   ]
  },
  {
   "cell_type": "code",
   "execution_count": 16,
   "metadata": {
    "collapsed": false,
    "jupyter": {
     "outputs_hidden": false
    },
    "pycharm": {
     "name": "#%%\n"
    }
   },
   "outputs": [],
   "source": [
    "directory = \"raw_data\"\n",
    "texts, sources = load_and_process_files(directory,\n",
    "                                        chunk_size=200,\n",
    "                                        separator=None)\n",
    "\n"
   ]
  },
  {
   "cell_type": "code",
   "execution_count": 17,
   "metadata": {
    "collapsed": false,
    "jupyter": {
     "outputs_hidden": false
    },
    "pycharm": {
     "name": "#%%\n"
    }
   },
   "outputs": [],
   "source": [
    "main_topic = \"Konwledge graph, Language Model\"\n",
    "\n",
    "KG_class = AKG.autoKG(texts=texts,\n",
    "                         source=sources,\n",
    "                         embedding_model=EMBEDDING_MODEL,\n",
    "                         llm_model=COMPLETIONS_MODEL,\n",
    "                         openai_api_key=OPENAI_API_KEY,\n",
    "                         main_topic=main_topic,\n",
    "                         ollama_base_url=OLLAMA_BASE_URL,\n",
    "                         embedding=True)"
   ]
  },
  {
   "cell_type": "code",
   "execution_count": 18,
   "metadata": {
    "collapsed": false,
    "jupyter": {
     "outputs_hidden": false
    },
    "pycharm": {
     "name": "#%%\n"
    }
   },
   "outputs": [
    {
     "name": "stdout",
     "output_type": "stream",
     "text": [
      "1123\n"
     ]
    }
   ],
   "source": [
    "# step one: remove duplicates\n",
    "to_keep, to_delete, remains = KG_class.remove_same_text(use_nn=True, n_neighbors=25, thresh=1e-6, update=True)\n",
    "print(len(to_keep))"
   ]
  },
  {
   "cell_type": "code",
   "execution_count": 19,
   "metadata": {
    "collapsed": false,
    "jupyter": {
     "outputs_hidden": false
    },
    "pycharm": {
     "name": "#%%\n"
    }
   },
   "outputs": [
    {
     "name": "stdout",
     "output_type": "stream",
     "text": [
      "Before Post Process: 138\n",
      "After Post Process: 47\n",
      "Number of keywords selected: 45\n",
      "Token used: 33686\n",
      "Before Post Process: 140\n",
      "After Post Process: 42\n",
      "Number of keywords selected: 42\n",
      "Token used: 34361\n",
      "Number of keywords: 80\n"
     ]
    }
   ],
   "source": [
    "# step two: extract keywords with two methods\n",
    "core_list_1, all_tokens = KG_class.cluster(15,\n",
    "                               clustering_method='NgJordanWeiss',\n",
    "                               max_texts=15,\n",
    "                               select_mtd='similarity',\n",
    "                               prompt_language='English',\n",
    "                               num_topics=10,\n",
    "                               max_length=3,\n",
    "                               post_process=True,\n",
    "                               add_keywords=False,\n",
    "                               verbose=False)\n",
    "print(\"Number of keywords selected:\", len(core_list_1))\n",
    "print(\"Token used:\", all_tokens)\n",
    "\n",
    "core_list_2, all_tokens = KG_class.cluster(15,\n",
    "                               clustering_method='k_means',\n",
    "                               max_texts=15,\n",
    "                               select_mtd='similarity',\n",
    "                               prompt_language='English',\n",
    "                               num_topics=10,\n",
    "                               max_length=3,\n",
    "                               post_process=True,\n",
    "                               add_keywords=True)\n",
    "print(\"Number of keywords selected:\", len(core_list_2))\n",
    "print(\"Token used:\", all_tokens)\n",
    "\n",
    "print(\"Number of keywords:\", len(KG_class.keywords))"
   ]
  },
  {
   "cell_type": "code",
   "execution_count": 20,
   "metadata": {
    "collapsed": false,
    "jupyter": {
     "outputs_hidden": false
    },
    "pycharm": {
     "name": "#%% postprocess one: remove substrings\n"
    }
   },
   "outputs": [
    {
     "name": "stdout",
     "output_type": "stream",
     "text": [
      "Number of keywords: 49\n"
     ]
    }
   ],
   "source": [
    "_ = KG_class.sub_entry_filter()\n",
    "print(\"Number of keywords:\", len(KG_class.keywords))"
   ]
  },
  {
   "cell_type": "code",
   "execution_count": 21,
   "metadata": {
    "collapsed": false,
    "jupyter": {
     "outputs_hidden": false
    },
    "pycharm": {
     "name": "#%% postprocess two: LLM processing\n"
    }
   },
   "outputs": [
    {
     "name": "stdout",
     "output_type": "stream",
     "text": [
      "Token used: 3932\n",
      "Number of keywords: 19\n"
     ]
    }
   ],
   "source": [
    "_, all_tokens = KG_class.final_keywords_filter()\n",
    "print(\"Token used:\", all_tokens)\n",
    "print(\"Number of keywords:\", len(KG_class.keywords))\n"
   ]
  },
  {
   "cell_type": "code",
   "execution_count": 22,
   "metadata": {
    "collapsed": false,
    "jupyter": {
     "outputs_hidden": false
    },
    "pycharm": {
     "name": "#%%\n"
    }
   },
   "outputs": [],
   "source": [
    "KG_class.make_graph(30)\n",
    "pred_mat, U_mat, A = KG_class.coretexts_seg_individual(k=30, trust_num=5, negative_multiplier=7, seg_mtd='laplace',\n",
    "                                                return_mat=True, connect_threshold=0.2)"
   ]
  },
  {
   "cell_type": "code",
   "execution_count": 23,
   "metadata": {
    "collapsed": false,
    "jupyter": {
     "outputs_hidden": false
    },
    "pycharm": {
     "name": "#%%\n"
    }
   },
   "outputs": [
    {
     "name": "stdout",
     "output_type": "stream",
     "text": [
      "True\n"
     ]
    }
   ],
   "source": [
    "KG_class.get_dist_mat()\n",
    "print(KG_class.check_completion())"
   ]
  },
  {
   "cell_type": "code",
   "execution_count": 24,
   "metadata": {
    "collapsed": false,
    "jupyter": {
     "outputs_hidden": false
    },
    "pycharm": {
     "name": "#%%\n"
    }
   },
   "outputs": [
    {
     "data": {
      "image/png": "[encoded data removed]",
      "text/plain": [
       "<Figure size 640x480 with 1 Axes>"
      ]
     },
     "metadata": {},
     "output_type": "display_data"
    }
   ],
   "source": [
    "deg_mat = np.sum(np.array(A.todense()) > 0, axis=0)\n",
    "plt.hist(deg_mat)\n",
    "plt.show()"
   ]
  },
  {
   "cell_type": "code",
   "execution_count": null,
   "metadata": {
    "collapsed": false,
    "jupyter": {
     "outputs_hidden": false
    },
    "pycharm": {
     "name": "#%%\n"
    }
   },
   "outputs": [
    {
     "ename": "NameError",
     "evalue": "name 'KG_class' is not defined",
     "output_type": "error",
     "traceback": [
      "\u001b[31m---------------------------------------------------------------------------\u001b[39m",
      "\u001b[31mNameError\u001b[39m                                 Traceback (most recent call last)",
      "\u001b[36mCell\u001b[39m\u001b[36m \u001b[39m\u001b[32mIn[1]\u001b[39m\u001b[32m, line 1\u001b[39m\n\u001b[32m----> \u001b[39m\u001b[32m1\u001b[39m \u001b[43mKG_class\u001b[49m.save_data(os.path.join(\u001b[33m'\u001b[39m\u001b[33mKG_data\u001b[39m\u001b[33m'\u001b[39m, \u001b[33m'\u001b[39m\u001b[33mref_paper_KG.npy\u001b[39m\u001b[33m'\u001b[39m), include_texts=\u001b[38;5;28;01mTrue\u001b[39;00m)\n",
      "\u001b[31mNameError\u001b[39m: name 'KG_class' is not defined"
     ]
    }
   ],
   "source": [
    "KG_class.save_data(os.path.join('KG_data', 'ref_paper_KG.npy'), include_texts=True)"
   ]
  },
  {
   "cell_type": "code",
   "execution_count": null,
   "metadata": {},
   "outputs": [],
   "source": []
  }
 ],
 "metadata": {
  "kernelspec": {
   "display_name": ".env",
   "language": "python",
   "name": "python3"
  },
  "language_info": {
   "codemirror_mode": {
    "name": "ipython",
    "version": 3
   },
   "file_extension": ".py",
   "mimetype": "text/x-python",
   "name": "python",
   "nbconvert_exporter": "python",
   "pygments_lexer": "ipython3",
   "version": "3.12.10"
  }
 },
 "nbformat": 4,
 "nbformat_minor": 4
}
